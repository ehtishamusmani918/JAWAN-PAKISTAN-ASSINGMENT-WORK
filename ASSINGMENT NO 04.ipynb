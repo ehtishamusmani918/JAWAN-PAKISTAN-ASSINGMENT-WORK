{
 "cells": [
  {
   "cell_type": "markdown",
   "id": "52e0c0c3-9afa-4d0c-bb54-2e8f67d08d5a",
   "metadata": {},
   "source": [
    "# ***ASSINGMENT NO 04***"
   ]
  },
  {
   "cell_type": "code",
   "execution_count": 311,
   "id": "bfd6f08c-ca0f-4839-889c-274e12eb65bf",
   "metadata": {},
   "outputs": [],
   "source": [
    "# initial guest list"
   ]
  },
  {
   "cell_type": "code",
   "execution_count": 312,
   "id": "ce8c3539-49f5-474b-87c6-fe3911e6ee73",
   "metadata": {},
   "outputs": [
    {
     "data": {
      "text/plain": [
       "['ali', 'musa', 'noman']"
      ]
     },
     "execution_count": 312,
     "metadata": {},
     "output_type": "execute_result"
    }
   ],
   "source": [
    "guest_list= [ \"ali\",\"musa\",\"noman\"]\n",
    "guest_list"
   ]
  },
  {
   "cell_type": "code",
   "execution_count": 313,
   "id": "3a3e061e-ac69-4f70-b7ee-fed0a5f96c7d",
   "metadata": {},
   "outputs": [
    {
     "name": "stdout",
     "output_type": "stream",
     "text": [
      " ali, you are invited for dinner at my place.\n",
      " musa, you are invited for dinner at my place.\n",
      " noman, you are invited for dinner at my place.\n"
     ]
    }
   ],
   "source": [
    "for guest in guest_list:\n",
    "    print(f\" {guest}, you are invited for dinner at my place.\")"
   ]
  },
  {
   "cell_type": "code",
   "execution_count": 314,
   "id": "78c3b8d8-2df1-446d-9646-a7bd0573f1fb",
   "metadata": {},
   "outputs": [],
   "source": [
    "# unavailable guest "
   ]
  },
  {
   "cell_type": "code",
   "execution_count": 315,
   "id": "2cc9576e-9c6f-40c6-be49-e368e01b1ffb",
   "metadata": {},
   "outputs": [
    {
     "data": {
      "text/plain": [
       "'musa'"
      ]
     },
     "execution_count": 315,
     "metadata": {},
     "output_type": "execute_result"
    }
   ],
   "source": [
    "unavailable_guest= guest_list[1]\n",
    "unavailable_guest\n"
   ]
  },
  {
   "cell_type": "code",
   "execution_count": 316,
   "id": "ebff239e-0cde-4ca2-8c50-166b88b2cf2d",
   "metadata": {},
   "outputs": [],
   "source": [
    "# relacing guest "
   ]
  },
  {
   "cell_type": "code",
   "execution_count": 317,
   "id": "aded0514-1a77-4d5c-b950-5a0875362d98",
   "metadata": {},
   "outputs": [
    {
     "data": {
      "text/plain": [
       "['ali', 'mustufa', 'noman']"
      ]
     },
     "execution_count": 317,
     "metadata": {},
     "output_type": "execute_result"
    }
   ],
   "source": [
    "guest_list[1]= \"mustufa\"\n",
    "guest_list"
   ]
  },
  {
   "cell_type": "code",
   "execution_count": 318,
   "id": "cd4837aa-4b34-4346-8907-2d5e9247ef87",
   "metadata": {},
   "outputs": [
    {
     "name": "stdout",
     "output_type": "stream",
     "text": [
      " unfortunately! musa is not able to attend the dinner\n",
      " ali, you all are still invited for dinner at my place.\n",
      " mustufa, you all are still invited for dinner at my place.\n",
      " noman, you all are still invited for dinner at my place.\n"
     ]
    }
   ],
   "source": [
    "print(f\" unfortunately! {unavailable_guest} is not able to attend the dinner\")\n",
    "for guest in guest_list:\n",
    "    print(f\" {guest}, you all are still invited for dinner at my place.\")"
   ]
  },
  {
   "cell_type": "code",
   "execution_count": 319,
   "id": "784d1d36-94b9-4c44-bf65-3e96f5952e17",
   "metadata": {},
   "outputs": [],
   "source": [
    "# informing good news"
   ]
  },
  {
   "cell_type": "code",
   "execution_count": 320,
   "id": "1cf907a6-18a2-4430-88d9-2bb202ad8bb4",
   "metadata": {},
   "outputs": [
    {
     "name": "stdout",
     "output_type": "stream",
     "text": [
      "Great news! We found a bigger dinner table, so we can invite more guests.\n"
     ]
    }
   ],
   "source": [
    "print(\"Great news! We found a bigger dinner table, so we can invite more guests.\")\n"
   ]
  },
  {
   "cell_type": "code",
   "execution_count": 321,
   "id": "c793b3e4-6c0c-432c-a07b-5bd1bc1d9a2b",
   "metadata": {},
   "outputs": [],
   "source": [
    "# adding more guests"
   ]
  },
  {
   "cell_type": "code",
   "execution_count": 322,
   "id": "6c3e0c71-6367-418e-b0e9-1fb1cc981f62",
   "metadata": {},
   "outputs": [],
   "source": [
    "guest_list.insert(0, \"laiba\")"
   ]
  },
  {
   "cell_type": "code",
   "execution_count": 323,
   "id": "3fdcbb51-ef0c-4071-8ca0-97f3f100f27a",
   "metadata": {},
   "outputs": [
    {
     "data": {
      "text/plain": [
       "['laiba', 'ali', 'mustufa', 'noman']"
      ]
     },
     "execution_count": 323,
     "metadata": {},
     "output_type": "execute_result"
    }
   ],
   "source": [
    "guest_list"
   ]
  },
  {
   "cell_type": "code",
   "execution_count": 324,
   "id": "36186dcd-3763-404c-a905-6c4bf2f1f034",
   "metadata": {},
   "outputs": [],
   "source": [
    "guest_list.insert(3, \"zoha\")"
   ]
  },
  {
   "cell_type": "code",
   "execution_count": 325,
   "id": "b9b544b3-2a91-4668-8f06-3d77903c7578",
   "metadata": {},
   "outputs": [
    {
     "data": {
      "text/plain": [
       "['laiba', 'ali', 'mustufa', 'zoha', 'noman']"
      ]
     },
     "execution_count": 325,
     "metadata": {},
     "output_type": "execute_result"
    }
   ],
   "source": [
    "guest_list"
   ]
  },
  {
   "cell_type": "code",
   "execution_count": 326,
   "id": "8d09f9fa-33e2-4dc7-86d5-b2e43e736827",
   "metadata": {},
   "outputs": [],
   "source": [
    "guest_list.append(\"alina\")"
   ]
  },
  {
   "cell_type": "code",
   "execution_count": 327,
   "id": "82c2ecb6-4240-4151-8c67-0d5653ad2df6",
   "metadata": {},
   "outputs": [
    {
     "data": {
      "text/plain": [
       "['laiba', 'ali', 'mustufa', 'zoha', 'noman', 'alina']"
      ]
     },
     "execution_count": 327,
     "metadata": {},
     "output_type": "execute_result"
    }
   ],
   "source": [
    "guest_list"
   ]
  },
  {
   "cell_type": "code",
   "execution_count": 328,
   "id": "f7764b8d-f94d-4017-a992-22fe0b97c449",
   "metadata": {},
   "outputs": [
    {
     "name": "stdout",
     "output_type": "stream",
     "text": [
      " Fortunately! laiba, we have found a bigger table for dinner so now you will enjoy the dinner with some of more friends.\n",
      " Fortunately! ali, we have found a bigger table for dinner so now you will enjoy the dinner with some of more friends.\n",
      " Fortunately! mustufa, we have found a bigger table for dinner so now you will enjoy the dinner with some of more friends.\n",
      " Fortunately! zoha, we have found a bigger table for dinner so now you will enjoy the dinner with some of more friends.\n",
      " Fortunately! noman, we have found a bigger table for dinner so now you will enjoy the dinner with some of more friends.\n",
      " Fortunately! alina, we have found a bigger table for dinner so now you will enjoy the dinner with some of more friends.\n"
     ]
    }
   ],
   "source": [
    "for guest in guest_list:\n",
    "    print(f\" Fortunately! {guest}, we have found a bigger table for dinner so now you will enjoy the dinner with some of more friends.\")"
   ]
  },
  {
   "cell_type": "code",
   "execution_count": 329,
   "id": "705f8d36-8439-455f-b4f2-9970f9cd001c",
   "metadata": {},
   "outputs": [
    {
     "name": "stdout",
     "output_type": "stream",
     "text": [
      " We just got the news that our table is not arriving in time so we have two guests to hold more others should be better for next time.\n"
     ]
    }
   ],
   "source": [
    "print(\" We just got the news that our table is not arriving in time so we have two guests to hold more others should be better for next time.\")"
   ]
  },
  {
   "cell_type": "code",
   "execution_count": 330,
   "id": "d1566994-db8b-4eea-ac45-783ad1f84f0b",
   "metadata": {},
   "outputs": [
    {
     "name": "stdout",
     "output_type": "stream",
     "text": [
      "Sorry! alina, we can't invite you to dinner.\n",
      "Sorry! noman, we can't invite you to dinner.\n",
      "Sorry! zoha, we can't invite you to dinner.\n",
      "Sorry! mustufa, we can't invite you to dinner.\n"
     ]
    }
   ],
   "source": [
    "while len(guest_list) > 2:\n",
    "    removed_guest = guest_list.pop()\n",
    "    print(f\"Sorry! {removed_guest}, we can't invite you to dinner.\")\n",
    "    \n"
   ]
  },
  {
   "cell_type": "code",
   "execution_count": 331,
   "id": "9e7a914f-df19-4b9f-85c8-ebde201ee590",
   "metadata": {},
   "outputs": [
    {
     "name": "stdout",
     "output_type": "stream",
     "text": [
      " laiba we still invite you for dinner\n",
      " ali we still invite you for dinner\n"
     ]
    }
   ],
   "source": [
    "for guest in guest_list:\n",
    "    print(f\" {guest} we still invite you for dinner\")"
   ]
  },
  {
   "cell_type": "code",
   "execution_count": 332,
   "id": "99f20631-2ce9-4c1b-b4b4-18fd6ecb7f6e",
   "metadata": {},
   "outputs": [],
   "source": [
    "del guest_list[0]"
   ]
  },
  {
   "cell_type": "code",
   "execution_count": 333,
   "id": "2ed85d3b-e7f6-4a20-92eb-1fe8fdabac7b",
   "metadata": {},
   "outputs": [],
   "source": [
    "del guest_list[0]"
   ]
  },
  {
   "cell_type": "code",
   "execution_count": 334,
   "id": "a541e6d2-38c6-4b84-920a-a205b420b1f4",
   "metadata": {},
   "outputs": [
    {
     "data": {
      "text/plain": [
       "[]"
      ]
     },
     "execution_count": 334,
     "metadata": {},
     "output_type": "execute_result"
    }
   ],
   "source": [
    "guest_list"
   ]
  },
  {
   "cell_type": "markdown",
   "id": "49604b4f-3117-468b-9357-82916c6e63fd",
   "metadata": {},
   "source": [
    "***GENERATING MARKSHEET***"
   ]
  },
  {
   "cell_type": "code",
   "execution_count": null,
   "id": "2415d67a-69ea-4de4-8f77-3ed72064beec",
   "metadata": {},
   "outputs": [],
   "source": [
    "subjects = [\"Math\", \"Science\", \"English\", \"History\", \"Art\"]\n",
    "marks = []\n",
    "\n",
    "for subject in subjects:\n",
    "    mark = float(input(f\"Enter marks for {subject}: \"))\n",
    "    marks.append(mark)\n",
    "\n",
    "total_marks = sum(marks)\n",
    "average = total_marks / len(subjects)\n",
    "\n",
    "print(f\"Total Marks: {total_marks}\")\n",
    "\n",
    "if average >= 90:\n",
    "    grade = \"A\"\n",
    "elif average >= 80:\n",
    "    grade = \"B\"\n",
    "elif average >= 70:\n",
    "    grade = \"C\"\n",
    "elif average >= 60:\n",
    "    grade = \"D\"\n",
    "else:\n",
    "    grade = \"F\"\n",
    "\n",
    "print(f\"Grade: {grade}\")\n"
   ]
  },
  {
   "cell_type": "code",
   "execution_count": null,
   "id": "d95bff61-6608-40f7-ab51-f2f467746d1e",
   "metadata": {},
   "outputs": [],
   "source": []
  }
 ],
 "metadata": {
  "kernelspec": {
   "display_name": "Python 3 (ipykernel)",
   "language": "python",
   "name": "python3"
  },
  "language_info": {
   "codemirror_mode": {
    "name": "ipython",
    "version": 3
   },
   "file_extension": ".py",
   "mimetype": "text/x-python",
   "name": "python",
   "nbconvert_exporter": "python",
   "pygments_lexer": "ipython3",
   "version": "3.12.4"
  }
 },
 "nbformat": 4,
 "nbformat_minor": 5
}
